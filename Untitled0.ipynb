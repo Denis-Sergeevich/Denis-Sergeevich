{
  "nbformat": 4,
  "nbformat_minor": 0,
  "metadata": {
    "colab": {
      "name": "Untitled0.ipynb",
      "provenance": [],
      "authorship_tag": "ABX9TyPYlxiiJy+JVZATfOhwXJkV",
      "include_colab_link": true
    },
    "kernelspec": {
      "name": "python3",
      "display_name": "Python 3"
    },
    "language_info": {
      "name": "python"
    },
    "gpuClass": "standard"
  },
  "cells": [
    {
      "cell_type": "markdown",
      "metadata": {
        "id": "view-in-github",
        "colab_type": "text"
      },
      "source": [
        "<a href=\"https://colab.research.google.com/github/Denis-Sergeevich/Denis-Sergeevich/blob/main/Untitled0.ipynb\" target=\"_parent\"><img src=\"https://colab.research.google.com/assets/colab-badge.svg\" alt=\"Open In Colab\"/></a>"
      ]
    },
    {
      "cell_type": "code",
      "execution_count": null,
      "metadata": {
        "colab": {
          "base_uri": "https://localhost:8080/",
          "height": 1000
        },
        "id": "rfdZH6qqLzeY",
        "outputId": "2aae9e76-0837-4dd6-ab12-e3591ce978fc"
      },
      "outputs": [
        {
          "output_type": "stream",
          "name": "stdout",
          "text": [
            "Drive already mounted at /content/drive/; to attempt to forcibly remount, call drive.mount(\"/content/drive/\", force_remount=True).\n"
          ]
        },
        {
          "output_type": "display_data",
          "data": {
            "text/plain": [
              "<Figure size 432x288 with 1 Axes>"
            ],
            "image/png": "[encoded data removed]"
          },
          "metadata": {
            "needs_background": "light"
          }
        },
        {
          "output_type": "stream",
          "name": "stdout",
          "text": [
            "4\n",
            "Форма обучающих данных (60000, 28, 28) -> (60000, 784)\n",
            "Форма тестовых данных (10000, 28, 28) -> (10000, 784)\n",
            "[0. 0. 0. 0. 0. 1. 0. 0. 0. 0.]\n",
            "Model: \"sequential_24\"\n",
            "_________________________________________________________________\n",
            " Layer (type)                Output Shape              Param #   \n",
            "=================================================================\n",
            " dense_72 (Dense)            (None, 800)               628000    \n",
            "                                                                 \n",
            " dense_73 (Dense)            (None, 400)               320400    \n",
            "                                                                 \n",
            " dense_74 (Dense)            (None, 10)                4010      \n",
            "                                                                 \n",
            "=================================================================\n",
            "Total params: 952,410\n",
            "Trainable params: 952,410\n",
            "Non-trainable params: 0\n",
            "_________________________________________________________________\n",
            "None\n",
            "Epoch 1/15\n",
            "469/469 [==============================] - 8s 16ms/step - loss: 0.2045 - accuracy: 0.9392\n",
            "Epoch 2/15\n",
            "469/469 [==============================] - 7s 16ms/step - loss: 0.0770 - accuracy: 0.9762\n",
            "Epoch 3/15\n",
            "469/469 [==============================] - 7s 16ms/step - loss: 0.0484 - accuracy: 0.9845\n",
            "Epoch 4/15\n",
            "469/469 [==============================] - 9s 19ms/step - loss: 0.0340 - accuracy: 0.9889\n",
            "Epoch 5/15\n",
            "469/469 [==============================] - 7s 15ms/step - loss: 0.0251 - accuracy: 0.9921\n",
            "Epoch 6/15\n",
            "469/469 [==============================] - 7s 16ms/step - loss: 0.0240 - accuracy: 0.9921\n",
            "Epoch 7/15\n",
            "469/469 [==============================] - 8s 16ms/step - loss: 0.0181 - accuracy: 0.9943\n",
            "Epoch 8/15\n",
            "469/469 [==============================] - 8s 17ms/step - loss: 0.0164 - accuracy: 0.9945\n",
            "Epoch 9/15\n",
            "469/469 [==============================] - 8s 16ms/step - loss: 0.0138 - accuracy: 0.9953\n",
            "Epoch 10/15\n",
            "469/469 [==============================] - 7s 15ms/step - loss: 0.0120 - accuracy: 0.9961\n",
            "Epoch 11/15\n",
            "469/469 [==============================] - 7s 15ms/step - loss: 0.0116 - accuracy: 0.9962\n",
            "Epoch 12/15\n",
            "469/469 [==============================] - 7s 15ms/step - loss: 0.0124 - accuracy: 0.9959\n",
            "Epoch 13/15\n",
            "469/469 [==============================] - 7s 15ms/step - loss: 0.0125 - accuracy: 0.9961\n",
            "Epoch 14/15\n",
            "469/469 [==============================] - 7s 16ms/step - loss: 0.0066 - accuracy: 0.9979\n",
            "Epoch 15/15\n",
            "469/469 [==============================] - 7s 16ms/step - loss: 0.0097 - accuracy: 0.9968\n"
          ]
        }
      ],
      "source": [
        "from tensorflow.keras.models import Sequential\n",
        "from tensorflow.keras.layers import Dense\n",
        "from tensorflow.keras.datasets import mnist\n",
        "from tensorflow.keras import utils\n",
        "import numpy as np\n",
        "import matplotlib.pyplot as plt\n",
        "from google.colab import drive\n",
        "\n",
        "\n",
        "%matplotlib inline \n",
        "drive.mount('/content/drive/')\n",
        "\n",
        "\n",
        "(x_train_org, y_train_org), (x_test_org, y_test_org) = mnist.load_data()\n",
        "\n",
        "x_train_org.shape\n",
        "\n",
        "n = 150\n",
        "\n",
        "plt.imshow(x_train_org[n], cmap = 'Blues')\n",
        "plt.show()\n",
        "\n",
        "print(y_train_org[n])\n",
        "\n",
        "x_train = x_train_org.reshape(x_train_org.shape[0], -1)\n",
        "x_test = x_test_org.reshape(x_test_org.shape[0], -1)\n",
        "\n",
        "print(f'Форма обучающих данных {x_train_org.shape} -> {x_train.shape}')\n",
        "print(f'Форма тестовых данных {x_test_org.shape} -> {x_test.shape}')\n",
        "\n",
        "x_train = x_train.astype('float32')/255\n",
        "x_test = x_test.astype('float32')/255\n",
        "\n",
        "CLASS_COUNT = 10\n",
        "\n",
        "y_train = utils.to_categorical(y_train_org, CLASS_COUNT)\n",
        "y_test = utils.to_categorical(y_test_org, CLASS_COUNT)\n",
        "\n",
        "print(y_train[0])\n",
        "\n",
        "model = Sequential()\n",
        "model.add(Dense(800, input_dim = 784, activation = 'relu'))\n",
        "model.add(Dense(400, activation = 'relu'))\n",
        "model.add(Dense(CLASS_COUNT, activation = 'softmax'))\n",
        "\n",
        "model.compile(loss='categorical_crossentropy', optimizer='adam', metrics = ['accuracy'])\n",
        "\n",
        "print(model.summary())\n",
        "\n",
        "utils.plot_model(model, to_file='model_plot.png', show_shapes=True, show_layer_names=True)\n",
        "\n",
        "model.fit(x_train, y_train, batch_size=128, epochs=15, verbose=1)\n",
        "\n",
        "model.save_weights('model.h5')\n",
        "model.load_weights('model.h5')\n",
        "\n"
      ]
    },
    {
      "cell_type": "code",
      "source": [
        "n_rec = np.random.randint(x_test_org.shape[0])\n",
        "plt.imshow(x_test_org[n_rec], cmap = 'Blues')\n",
        "plt.show\n",
        "\n",
        "x = x_test[n_rec]\n",
        "x = np.expand_dims(x, axis=0)\n",
        "prediction = model.predict(x)\n",
        "pred = np.argmax(prediction)\n",
        "\n",
        "print(f'Распознана цифра {pred}')\n",
        "print(f'{y_test_org[n_rec]}')"
      ],
      "metadata": {
        "colab": {
          "base_uri": "https://localhost:8080/",
          "height": 302
        },
        "id": "vlApSwplW26o",
        "outputId": "905a4cfa-a58e-4d20-da63-685812c72cf9"
      },
      "execution_count": null,
      "outputs": [
        {
          "output_type": "stream",
          "name": "stdout",
          "text": [
            "Распознана цифра 5\n",
            "5\n"
          ]
        },
        {
          "output_type": "display_data",
          "data": {
            "text/plain": [
              "<Figure size 432x288 with 1 Axes>"
            ],
            "image/png": "[encoded data removed]"
          },
          "metadata": {
            "needs_background": "light"
          }
        }
      ]
    }
  ]
}